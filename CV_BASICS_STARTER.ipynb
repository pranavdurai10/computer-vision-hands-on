{
 "cells": [
  {
   "cell_type": "markdown",
   "id": "fbfbe9b3-4a75-4400-9f95-15c1940f90eb",
   "metadata": {},
   "source": [
    "# Basics of Computer Vision using OpenCV "
   ]
  },
  {
   "cell_type": "markdown",
   "id": "d2310872-19c7-450d-b602-d40120b6c856",
   "metadata": {},
   "source": [
    "A hands-on session by Pranav Durai, Research Fellow, Stanford University."
   ]
  },
  {
   "cell_type": "markdown",
   "id": "75b0ab4e-c175-431d-869e-a77166592082",
   "metadata": {},
   "source": [
    "Install OpenCV through command-line using - !pip install opencv-python"
   ]
  },
  {
   "cell_type": "markdown",
   "id": "b2467f1c-3de3-40c1-a02a-d13a3412f29c",
   "metadata": {},
   "source": [
    "### Import necessary packages "
   ]
  },
  {
   "cell_type": "code",
   "execution_count": 1,
   "id": "0bc15fbc-5ffb-4a87-8469-9acfecc7ac9e",
   "metadata": {},
   "outputs": [],
   "source": [
    "import cv2\n",
    "import numpy as np"
   ]
  }
 ],
 "metadata": {
  "kernelspec": {
   "display_name": "Python 3 (ipykernel)",
   "language": "python",
   "name": "python3"
  },
  "language_info": {
   "codemirror_mode": {
    "name": "ipython",
    "version": 3
   },
   "file_extension": ".py",
   "mimetype": "text/x-python",
   "name": "python",
   "nbconvert_exporter": "python",
   "pygments_lexer": "ipython3",
   "version": "3.9.0"
  }
 },
 "nbformat": 4,
 "nbformat_minor": 5
}
